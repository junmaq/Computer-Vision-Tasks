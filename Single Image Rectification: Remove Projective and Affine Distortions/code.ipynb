{
 "cells": [
  {
   "cell_type": "code",
   "execution_count": 23,
   "metadata": {},
   "outputs": [],
   "source": [
    "import cv2\n",
    "import numpy as np\n",
    "import matplotlib.pyplot as plt\n",
    "from skimage.io import imread\n",
    "from skimage.transform import resize "
   ]
  },
  {
   "cell_type": "markdown",
   "metadata": {},
   "source": [
    "## Reading Image"
   ]
  },
  {
   "cell_type": "code",
   "execution_count": 24,
   "metadata": {},
   "outputs": [],
   "source": [
    "img=imread(\"images/img6.jpg\")"
   ]
  },
  {
   "cell_type": "code",
   "execution_count": 25,
   "metadata": {},
   "outputs": [
    {
     "data": {
      "text/plain": [
       "(254, 400, 3)"
      ]
     },
     "execution_count": 25,
     "metadata": {},
     "output_type": "execute_result"
    }
   ],
   "source": [
    "img.shape"
   ]
  },
  {
   "cell_type": "code",
   "execution_count": 26,
   "metadata": {},
   "outputs": [],
   "source": [
    "plt.figure()\n",
    "plt.imshow(img[:,:,:3])\n",
    "plt.show()"
   ]
  },
  {
   "cell_type": "markdown",
   "metadata": {},
   "source": [
    "## Removing Perspective Distortion"
   ]
  },
  {
   "cell_type": "code",
   "execution_count": 27,
   "metadata": {},
   "outputs": [],
   "source": [
    "def cross(v1,v2):\n",
    "    A=np.array([[0,-v1[2],v1[1]],\n",
    "                [v1[2],0,-v1[0]],\n",
    "                [-v1[1],v1[0],0]])\n",
    "    return A.dot(v2)"
   ]
  },
  {
   "cell_type": "code",
   "execution_count": 28,
   "metadata": {},
   "outputs": [],
   "source": [
    "def remove_perspective(image):\n",
    "    \n",
    "    img=image[:,:,:3]\n",
    "    %matplotlib qt\n",
    "    plt.figure()\n",
    "    plt.imshow(img)\n",
    "    print(\"Select 4 points in Image for perspective distortion.\")\n",
    "    pts=plt.ginput(n=4,timeout=0)\n",
    "    plt.show()\n",
    "    \n",
    "    p1=np.array([pts[0][0],pts[0][1],1])\n",
    "    p2=np.array([pts[1][0],pts[1][1],1])\n",
    "    p3=np.array([pts[2][0],pts[2][1],1])\n",
    "    p4=np.array([pts[3][0],pts[3][1],1])\n",
    "    \n",
    "    \n",
    "    l1=cross(p1,p2)\n",
    "    l2=cross(p3,p4)\n",
    "    l3=cross(p1,p4)\n",
    "    l4=cross(p2,p3)\n",
    "    l1=l1/l1[2];l2=l2/l2[2];l3=l3/l3[2];l4=l4/l4[2]\n",
    "    \n",
    "    \n",
    "    v1=cross(l1,l2)\n",
    "    v2=cross(l3,l4)\n",
    "    v1=v1/v1[2];v2=v2/v2[2]\n",
    "    l_v=cross(v1,v2)\n",
    "    \n",
    "    l_v=l_v/l_v[2]\n",
    "    \n",
    "    \n",
    "    H=np.array([[1,0,0],\n",
    "            [0,1,0],\n",
    "            [l_v[0],l_v[1],l_v[2]]])\n",
    "    \n",
    "    \n",
    "\n",
    "    \n",
    "    return H,pts"
   ]
  },
  {
   "cell_type": "code",
   "execution_count": null,
   "metadata": {},
   "outputs": [
    {
     "name": "stdout",
     "output_type": "stream",
     "text": [
      "Select 4 points in Image for perspective distortion.\n"
     ]
    }
   ],
   "source": [
    "H,pts=remove_perspective(img)"
   ]
  },
  {
   "cell_type": "markdown",
   "metadata": {},
   "source": [
    "## Drawing selected points"
   ]
  },
  {
   "cell_type": "code",
   "execution_count": 8,
   "metadata": {},
   "outputs": [],
   "source": [
    "img1=img.copy()\n",
    "lineThickness = 2\n",
    "cv2.line(img1, (int(pts[0][0]), int(pts[0][1])), (int(pts[1][0]), int(pts[1][1])), (0,255,0), lineThickness)\n",
    "cv2.line(img1, (int(pts[1][0]), int(pts[1][1])), (int(pts[2][0]), int(pts[2][1])), (0,255,0), lineThickness)\n",
    "cv2.line(img1, (int(pts[2][0]), int(pts[2][1])), (int(pts[3][0]), int(pts[3][1])), (0,255,0), lineThickness)\n",
    "cv2.line(img1, (int(pts[3][0]), int(pts[3][1])), (int(pts[0][0]), int(pts[0][1])), (0,255,0), lineThickness)\n",
    "\n",
    "\n",
    "plt.figure()\n",
    "plt.imshow(img1)\n",
    "plt.title(\"Points Rectangle\")\n",
    "plt.show()"
   ]
  },
  {
   "cell_type": "code",
   "execution_count": 9,
   "metadata": {},
   "outputs": [],
   "source": [
    "\n",
    "warp = cv2.warpPerspective(img, H, (300,150))\n",
    "plt.figure()\n",
    "plt.imshow(warp)\n",
    "plt.title(\"After Perspective\")\n",
    "plt.show()\n"
   ]
  },
  {
   "cell_type": "markdown",
   "metadata": {},
   "source": [
    "## Removing Affine Distrotion"
   ]
  },
  {
   "cell_type": "code",
   "execution_count": 20,
   "metadata": {},
   "outputs": [],
   "source": [
    "def remove_affine(img):\n",
    "    \n",
    "    plt.figure()\n",
    "    plt.imshow(img)\n",
    "    print(\"Select 4 points in Image\")\n",
    "    pts=plt.ginput(n=4,timeout=0)\n",
    "    plt.show()\n",
    "    \n",
    "    A=np.array([[pts[0][0]*pts[1][0], pts[0][0]*pts[1][1]+pts[0][1]*pts[1][0]],\n",
    "            [pts[2][0]*pts[3][0], pts[2][0]*pts[3][1]+pts[2][1]*pts[3][0]]])\n",
    "    b=np.array([-pts[0][1]*pts[1][1],-pts[2][1]*pts[3][1]])\n",
    "    \n",
    "    X=np.linalg.inv(A).dot(b)\n",
    "    \n",
    "    \n",
    "    S=np.array([[X[0],X[1]],\n",
    "            [X[1],1]])\n",
    "    \n",
    "    G,V=np.linalg.eig(S)\n",
    "#     U,G,V=np.linalg.svd(S)\n",
    "    \n",
    "#     G_=np.sqrt(np.abs(G))\n",
    "    \n",
    "    A=V.dot(np.diag(G)).dot(V.transpose())\n",
    "#     A=U.dot(np.diag(G_)).dot(V)\n",
    "    \n",
    "    Ha=np.array([[A[0,0],A[0,1],0],\n",
    "             [A[1,0],A[1,1],0],\n",
    "             [0,0,1]])\n",
    "    \n",
    "    Hb=np.linalg.inv(Ha)\n",
    "    \n",
    "    return  Hb, pts\n"
   ]
  },
  {
   "cell_type": "code",
   "execution_count": 21,
   "metadata": {},
   "outputs": [
    {
     "name": "stdout",
     "output_type": "stream",
     "text": [
      "Select 4 points in Image\n"
     ]
    }
   ],
   "source": [
    "Hb,pts=remove_affine(img)\n"
   ]
  },
  {
   "cell_type": "markdown",
   "metadata": {},
   "source": [
    "## Drawing selected points"
   ]
  },
  {
   "cell_type": "code",
   "execution_count": 16,
   "metadata": {},
   "outputs": [
    {
     "data": {
      "text/plain": [
       "<Figure size 640x480 with 0 Axes>"
      ]
     },
     "execution_count": 16,
     "metadata": {},
     "output_type": "execute_result"
    }
   ],
   "source": [
    "lineThickness = 2\n",
    "\n",
    "cv2.line(img1, (int(pts[0][0]), int(pts[0][1])), (int(pts[2][0]), int(pts[2][1])), (0,0,255), lineThickness)\n",
    "cv2.line(img1, (int(pts[1][0]), int(pts[1][1])), (int(pts[3][0]), int(pts[3][1])), (0,0,255), lineThickness)\n",
    "\n",
    "plt.figure()\n",
    "plt.imshow(img1)\n",
    "plt.figure()"
   ]
  },
  {
   "cell_type": "code",
   "execution_count": 22,
   "metadata": {},
   "outputs": [],
   "source": [
    "warpf = cv2.warpAffine(warp, Hb[:2,:], (1000,1000))\n",
    "plt.figure()\n",
    "plt.imshow(warpf)\n",
    "plt.show()\n"
   ]
  },
  {
   "cell_type": "code",
   "execution_count": null,
   "metadata": {},
   "outputs": [],
   "source": []
  }
 ],
 "metadata": {
  "kernelspec": {
   "display_name": "Python 3",
   "language": "python",
   "name": "python3"
  },
  "language_info": {
   "codemirror_mode": {
    "name": "ipython",
    "version": 3
   },
   "file_extension": ".py",
   "mimetype": "text/x-python",
   "name": "python",
   "nbconvert_exporter": "python",
   "pygments_lexer": "ipython3",
   "version": "3.7.3"
  }
 },
 "nbformat": 4,
 "nbformat_minor": 2
}
